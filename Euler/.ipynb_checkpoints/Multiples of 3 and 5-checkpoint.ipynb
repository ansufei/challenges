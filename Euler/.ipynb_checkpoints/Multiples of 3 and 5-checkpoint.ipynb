{
 "cells": [
  {
   "cell_type": "markdown",
   "metadata": {},
   "source": [
    "If we list all the natural numbers below 10 that are multiples of 3 or 5, we get 3, 5, 6 and 9. The sum of these multiples is 23.\n",
    "\n",
    "Find the sum of all the multiples of 3 or 5 below 1000."
   ]
  },
  {
   "cell_type": "code",
   "execution_count": 32,
   "metadata": {},
   "outputs": [
    {
     "name": "stdout",
     "output_type": "stream",
     "text": [
      "233168\n"
     ]
    }
   ],
   "source": [
    "#pythonic brute-force method:\n",
    "series=0\n",
    "x=0\n",
    "while x<1000:\n",
    "    if x/3 % 1==0 or x/5 % 1==0:\n",
    "        series+=x\n",
    "    x+=1\n",
    "print(series)"
   ]
  },
  {
   "cell_type": "code",
   "execution_count": 12,
   "metadata": {},
   "outputs": [
    {
     "name": "stdout",
     "output_type": "stream",
     "text": [
      "999\n",
      "995\n"
     ]
    }
   ],
   "source": [
    "#Algorithmic method\n",
    "#find the highest multiples of 3 and 5 below 1000:\n",
    "def top_multiple(x,total):\n",
    "    for nb in reversed(range(total)):\n",
    "        if int(nb/x)==nb/x:\n",
    "            return nb\n",
    "print(top_multiple(3,1000))\n",
    "print(top_multiple(5,1000))"
   ]
  },
  {
   "cell_type": "code",
   "execution_count": 42,
   "metadata": {},
   "outputs": [
    {
     "name": "stdout",
     "output_type": "stream",
     "text": [
      "333.0\n",
      "199.0\n"
     ]
    }
   ],
   "source": [
    "#find number of elements in each series:\n",
    "def find_n(x,total):\n",
    "    return top_multiple(x,total)/x\n",
    "print(find_n(3,1000))\n",
    "print(find_n(5,1000))"
   ]
  },
  {
   "cell_type": "code",
   "execution_count": 41,
   "metadata": {},
   "outputs": [
    {
     "name": "stdout",
     "output_type": "stream",
     "text": [
      "18.0\n"
     ]
    }
   ],
   "source": [
    "#Apply the formula for the sum of arithmetic series\n",
    "def ar_series(x,total):\n",
    "    n=find_n(x,total)\n",
    "    last=top_multiple(x,total)\n",
    "    return n*((x+last)/2)\n",
    "print(ar_series(3,10))"
   ]
  },
  {
   "cell_type": "code",
   "execution_count": 47,
   "metadata": {},
   "outputs": [
    {
     "data": {
      "text/plain": [
       "233168.0"
      ]
     },
     "execution_count": 47,
     "metadata": {},
     "output_type": "execute_result"
    }
   ],
   "source": [
    "# sum and remove multiples of 3 * 5 below 1000 to avoid double-counting\n",
    "ar_series(3,1000)+ar_series(5,1000)-ar_series(3*5,1000)"
   ]
  },
  {
   "cell_type": "code",
   "execution_count": null,
   "metadata": {},
   "outputs": [],
   "source": []
  }
 ],
 "metadata": {
  "kernelspec": {
   "display_name": "Python (games)",
   "language": "python",
   "name": "games"
  },
  "language_info": {
   "codemirror_mode": {
    "name": "ipython",
    "version": 3
   },
   "file_extension": ".py",
   "mimetype": "text/x-python",
   "name": "python",
   "nbconvert_exporter": "python",
   "pygments_lexer": "ipython3",
   "version": "3.6.8"
  }
 },
 "nbformat": 4,
 "nbformat_minor": 2
}
